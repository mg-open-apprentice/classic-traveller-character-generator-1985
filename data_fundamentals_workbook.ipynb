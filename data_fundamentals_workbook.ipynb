{
 "cells": [
  {
   "cell_type": "markdown",
   "id": "96b63d2d-1234-5678-9abc-def012345678",
   "metadata": {},
   "source": [
    "# Data Fundamentals Workbook\n",
    "### Practical Exercises in Python"
   ]
  },
  {
   "cell_type": "markdown",
   "id": "70208a29-1234-5678-9abc-def012345679",
   "metadata": {},
   "source": [
    "## Practical 1: Number Systems\n",
    "Demonstrate integers, floats, fractions, and decimals in Python."
   ]
  },
  {
   "cell_type": "code",
   "execution_count": null,
   "id": "ae2e4e36-1234-5678-9abc-def012345680",
   "metadata": {},
   "outputs": [],
   "source": [
    "import sys\n",
    "from decimal import Decimal, getcontext\n",
    "from fractions import Fraction\n",
    "import math"
   ]
  },
  {
   "cell_type": "markdown",
   "id": "integer-demo-1234-5678-9abc-def012345681",
   "metadata": {},
   "source": [
    "### Integer Operations"
   ]
  },
  {
   "cell_type": "code",
   "execution_count": null,
   "id": "8e5ca9d9-1234-5678-9abc-def012345682",
   "metadata": {},
   "outputs": [],
   "source": [
    "# Integers\n",
    "zero = 0\n",
    "print(f\"zero = {zero}, type: {type(zero)}\")\n",
    "\n",
    "one = zero + 1\n",
    "print(f\"one = {one}, type: {type(one)}\")\n",
    "\n",
    "# Demonstrate large integers\n",
    "large_int = 123456789012345678901234567890\n",
    "print(f\"Large integer: {large_int}\")\n",
    "print(f\"Type: {type(large_int)}\")"
   ]
  },
  {
   "cell_type": "markdown",
   "id": "decimal-demo-1234-5678-9abc-def012345683",
   "metadata": {},
   "source": [
    "### Decimal Precision and Infinity"
   ]
  },
  {
   "cell_type": "code",
   "execution_count": null,
   "id": "decimal-inf-1234-5678-9abc-def012345684",
   "metadata": {},
   "outputs": [],
   "source": [
    "# Demonstrate Decimal infinity (use try-except for safety)\n",
    "getcontext().clear_flags()\n",
    "getcontext().prec = 28\n",
    "\n",
    "try:\n",
    "    mystery = Decimal(1) / Decimal(0)\n",
    "    print(f\"Decimal Infinity: {mystery}\")\n",
    "except:\n",
    "    print(\"Division by zero creates infinity\")\n",
    "    mystery = Decimal('Infinity')\n",
    "    print(f\"Decimal Infinity literal: {mystery}\")"
   ]
  },
  {
   "cell_type": "markdown",
   "id": "float-demo-1234-5678-9abc-def012345685",
   "metadata": {},
   "source": [
    "### Floating Point Behavior"
   ]
  },
  {
   "cell_type": "code",
   "execution_count": null,
   "id": "e7d42c8f-1234-5678-9abc-def012345686",
   "metadata": {},
   "outputs": [],
   "source": [
    "# Floating Point Behavior\n",
    "two = 1 + 1\n",
    "print(f\"1 + 1 = {two}, type: {type(two)}\")\n",
    "\n",
    "one_point_one = 1 + 0.1\n",
    "print(f\"1 + 0.1 = {one_point_one}\")\n",
    "\n",
    "# Demonstrate floating point precision issues\n",
    "point_three = 0.1 + 0.1 + 0.1\n",
    "print(f\"0.1 + 0.1 + 0.1 = {point_three}\")\n",
    "print(f\"Is 0.3 == 0.1 + 0.1 + 0.1? {0.3 == point_three}\")\n",
    "\n",
    "print(f\"Maximum float: {sys.float_info.max}\")\n",
    "print(f\"Float infinity literal: {float('inf')}\")"
   ]
  },
  {
   "cell_type": "markdown",
   "id": "fraction-demo-1234-5678-9abc-def012345687",
   "metadata": {},
   "source": [
    "### Fractions for Exact Arithmetic"
   ]
  },
  {
   "cell_type": "code",
   "execution_count": null,
   "id": "2a2aaae1-1234-5678-9abc-def012345688",
   "metadata": {},
   "outputs": [],
   "source": [
    "# Fractions\n",
    "one_seventh = 1 / 7\n",
    "print(f\"1/7 as float: {one_seventh}\")\n",
    "\n",
    "fract_one_seventh = Fraction(1, 7)\n",
    "print(f\"1/7 as Fraction: {fract_one_seventh}\")\n",
    "\n",
    "sum_fraction = Fraction(1, 10) * 2\n",
    "print(f\"2 * Fraction(1,10) = {sum_fraction}\")\n",
    "print(f\"Fraction equality check: {sum_fraction} == Fraction(1, 5)? {sum_fraction == Fraction(1, 5)}\")\n",
    "\n",
    "# Convert float to fraction\n",
    "float_to_frac = Fraction(0.125)\n",
    "print(f\"Fraction(0.125) = {float_to_frac}\")"
   ]
  },
  {
   "cell_type": "markdown",
   "id": "decimal-precision-1234-5678-9abc-def012345689",
   "metadata": {},
   "source": [
    "### Decimals with Custom Precision"
   ]
  },
  {
   "cell_type": "code",
   "execution_count": null,
   "id": "e17e4b16-1234-5678-9abc-def012345690",
   "metadata": {},
   "outputs": [],
   "source": [
    "# Decimals with Precision\n",
    "getcontext().prec = 30\n",
    "decimal_seventh = Decimal(1) / Decimal(7)\n",
    "print(f\"1/7 as Decimal with prec=30: {decimal_seventh}\")\n",
    "\n",
    "getcontext().prec = 6\n",
    "decimal_seventh_short = Decimal(1) / Decimal(7)\n",
    "print(f\"1/7 as Decimal with prec=6: {decimal_seventh_short}\")\n",
    "\n",
    "# Reset to default precision\n",
    "getcontext().prec = 28"
   ]
  },
  {
   "cell_type": "markdown",
   "id": "linear-system-1234-5678-9abc-def012345691",
   "metadata": {},
   "source": [
    "### Solving a Linear System with NumPy"
   ]
  },
  {
   "cell_type": "code",
   "execution_count": null,
   "id": "1b120dae-1234-5678-9abc-def012345692",
   "metadata": {},
   "outputs": [],
   "source": [
    "import numpy as np\n",
    "\n",
    "# Solve the system:\n",
    "# x1 + 2*x2 = 1\n",
    "# 3*x1 + 5*x2 = 2\n",
    "a = np.array([[1, 2], [3, 5]])\n",
    "b = np.array([1, 2])\n",
    "solution = np.linalg.solve(a, b)\n",
    "print(f\"Solution [x1, x2]: {solution}\")\n",
    "\n",
    "# Verify the solution\n",
    "print(f\"Verification: A @ solution = {a @ solution}\")\n",
    "print(f\"Expected: {b}\")"
   ]
  },
  {
   "cell_type": "markdown",
   "id": "45fe3802-1234-5678-9abc-def012345693",
   "metadata": {},
   "source": [
    "## Practical 2: Characters and Strings\n",
    "Explore string literals, quoting, escaping, and slicing operations."
   ]
  },
  {
   "cell_type": "markdown",
   "id": "string-literals-1234-5678-9abc-def012345694",
   "metadata": {},
   "source": [
    "### String Literals and Quoting"
   ]
  },
  {
   "cell_type": "code",
   "execution_count": null,
   "id": "47b91797-1234-5678-9abc-def012345695",
   "metadata": {},
   "outputs": [],
   "source": [
    "# String Literals and Quoting\n",
    "single = 'spam eggs'\n",
    "double = \"doesn't\"\n",
    "nested = '\"Yes,\" they said.'\n",
    "print(f\"{single} | {double} | {nested}\")\n",
    "\n",
    "# Alternative quoting\n",
    "apostrophe = \"doesn't\"\n",
    "quotes = '\"Hello,\" she said.'\n",
    "mixed = \"It's a \\\"wonderful\\\" day!\"\n",
    "print(f\"Apostrophe: {apostrophe}\")\n",
    "print(f\"Quotes: {quotes}\")\n",
    "print(f\"Mixed: {mixed}\")"
   ]
  },
  {
   "cell_type": "markdown",
   "id": "escape-raw-1234-5678-9abc-def012345696",
   "metadata": {},
   "source": [
    "### Escape Sequences and Raw Strings"
   ]
  },
  {
   "cell_type": "code",
   "execution_count": null,
   "id": "escape-demo-1234-5678-9abc-def012345697",
   "metadata": {},
   "outputs": [],
   "source": [
    "# Escape sequences and raw strings\n",
    "escaped = 'First line.\\nSecond line.'\n",
    "print(\"Escaped newline:\")\n",
    "print(escaped)\n",
    "\n",
    "raw_path = r'C:\\some\\path\\to\\file.txt'\n",
    "print(f\"Raw string path: {raw_path}\")\n",
    "\n",
    "# Common escape sequences\n",
    "escapes = 'Tab:\\t|Newline:\\n|Backslash:\\\\|Quote:\\''\n",
    "print(\"Common escapes:\")\n",
    "print(escapes)"
   ]
  },
  {
   "cell_type": "markdown",
   "id": "multiline-1234-5678-9abc-def012345698",
   "metadata": {},
   "source": [
    "### Multi-line Strings"
   ]
  },
  {
   "cell_type": "code",
   "execution_count": null,
   "id": "multiline-demo-1234-5678-9abc-def012345699",
   "metadata": {},
   "outputs": [],
   "source": [
    "# Multi-line string\n",
    "usage = \"\"\"Usage: thingy [OPTIONS]\n",
    "    -h   Display help\n",
    "    -H   Hostname to connect to\n",
    "    -p   Port number (default: 8080)\"\"\"\n",
    "print(usage)\n",
    "\n",
    "# Triple quotes preserve formatting\n",
    "poem = '''Roses are red,\n",
    "Violets are blue,\n",
    "Python is awesome,\n",
    "And so are you!'''\n",
    "print(\"\\nPoem:\")\n",
    "print(poem)"
   ]
  },
  {
   "cell_type": "markdown",
   "id": "concat-repeat-1234-5678-9abc-def012345700",
   "metadata": {},
   "source": [
    "### Concatenation and Repetition"
   ]
  },
  {
   "cell_type": "code",
   "execution_count": null,
   "id": "d72bdd3f-1234-5678-9abc-def012345701",
   "metadata": {},
   "outputs": [],
   "source": [
    "# Concatenation and Repetition\n",
    "text = 'Py' + 'thon'\n",
    "print(f\"Concatenated: {text}\")\n",
    "\n",
    "repeated = 3 * 'un' + 'ium'\n",
    "print(f\"Repeated 'un' 3 times + 'ium': {repeated}\")\n",
    "\n",
    "# String multiplication\n",
    "separator = '-' * 20\n",
    "print(f\"Separator: {separator}\")\n",
    "\n",
    "# Automatic concatenation of string literals\n",
    "long_string = ('This is a very long string that '\n",
    "               'spans multiple lines and is '\n",
    "               'automatically concatenated.')\n",
    "print(f\"Long string: {long_string}\")"
   ]
  },
  {
   "cell_type": "markdown",
   "id": "indexing-slicing-1234-5678-9abc-def012345702",
   "metadata": {},
   "source": [
    "### Indexing and Slicing"
   ]
  },
  {
   "cell_type": "code",
   "execution_count": null,
   "id": "6aea911e-1234-5678-9abc-def012345703",
   "metadata": {},
   "outputs": [],
   "source": [
    "# Indexing and Slicing\n",
    "word = 'Python'\n",
    "print(f\"word = '{word}'\")\n",
    "print(f\"word[0]: {word[0]}\")\n",
    "print(f\"word[-1]: {word[-1]}\")\n",
    "print(f\"word[1:4]: {word[1:4]}\")\n",
    "print(f\"word[:2] + word[2:]: {word[:2] + word[2:]}\")\n",
    "\n",
    "# More slicing examples\n",
    "print(f\"word[:3]: {word[:3]}\")\n",
    "print(f\"word[3:]: {word[3:]}\")\n",
    "print(f\"word[::2]: {word[::2]}\")\n",
    "print(f\"word[::-1]: {word[::-1]}\")\n",
    "\n",
    "# String length\n",
    "print(f\"Length of '{word}': {len(word)}\")"
   ]
  },
  {
   "cell_type": "markdown",
   "id": "6423f73f-1234-5678-9abc-def012345704",
   "metadata": {},
   "source": [
    "## Practical 3: Lists and Arrays\n",
    "Work with Python lists and NumPy arrays for data manipulation."
   ]
  },
  {
   "cell_type": "markdown",
   "id": "list-operations-1234-5678-9abc-def012345705",
   "metadata": {},
   "source": [
    "### List Operations"
   ]
  },
  {
   "cell_type": "code",
   "execution_count": null,
   "id": "066be6f9-1234-5678-9abc-def012345706",
   "metadata": {},
   "outputs": [],
   "source": [
    "# Lists\n",
    "animals = ['pets', 'wild cats', 'wild dogs', 'pigs', 'unicorns', 'mythical']\n",
    "print(f\"Original list: {animals}\")\n",
    "print(f\"List length: {len(animals)}\")\n",
    "\n",
    "# Slicing\n",
    "slice_animals = animals[1:4]\n",
    "print(f\"Slice [1:4]: {slice_animals}\")\n",
    "\n",
    "# Sorting (creates new list)\n",
    "sorted_animals = sorted(animals)\n",
    "print(f\"Sorted copy: {sorted_animals}\")\n",
    "print(f\"Original unchanged: {animals}\")"
   ]
  },
  {
   "cell_type": "markdown",
   "id": "list-modification-1234-5678-9abc-def012345707",
   "metadata": {},
   "source": [
    "### List Modification Methods"
   ]
  },
  {
   "cell_type": "code",
   "execution_count": null,
   "id": "list-modify-1234-5678-9abc-def012345708",
   "metadata": {},
   "outputs": [],
   "source": [
    "# Working with a copy to preserve original\n",
    "animals_copy = animals.copy()\n",
    "print(f\"Working with copy: {animals_copy}\")\n",
    "\n",
    "# Removing elements\n",
    "animals_copy.remove('pigs')\n",
    "print(f\"After removing 'pigs': {animals_copy}\")\n",
    "\n",
    "# Popping elements\n",
    "popped = animals_copy.pop(2)  # Remove and return element at index 2\n",
    "print(f\"Popped element at index 2: '{popped}'\")\n",
    "print(f\"List after popping: {animals_copy}\")\n",
    "\n",
    "# Adding elements\n",
    "animals_copy.append('dragons')\n",
    "animals_copy.insert(1, 'house cats')\n",
    "print(f\"After adding elements: {animals_copy}\")"
   ]
  },
  {
   "cell_type": "markdown",
   "id": "numpy-arrays-1234-5678-9abc-def012345709",
   "metadata": {},
   "source": [
    "### NumPy Arrays and DataFrames"
   ]
  },
  {
   "cell_type": "code",
   "execution_count": null,
   "id": "af4d7dbf-1234-5678-9abc-def012345710",
   "metadata": {},
   "outputs": [],
   "source": [
    "# NumPy Arrays\n",
    "import numpy as np\n",
    "import pandas as pd\n",
    "\n",
    "# Create array from list\n",
    "arr = np.array(animals, dtype=object)\n",
    "print(f\"NumPy array of animals: {arr}\")\n",
    "print(f\"Array shape: {arr.shape}\")\n",
    "print(f\"Array dtype: {arr.dtype}\")\n",
    "\n",
    "# Numeric array operations\n",
    "numbers = np.array([1, 2, 3, 4, 5])\n",
    "print(f\"\\nNumeric array: {numbers}\")\n",
    "print(f\"Array * 2: {numbers * 2}\")\n",
    "print(f\"Array squared: {numbers ** 2}\")\n",
    "print(f\"Array sum: {numbers.sum()}\")"
   ]
  },
  {
   "cell_type": "markdown",
   "id": "dataframe-demo-1234-5678-9abc-def012345711",
   "metadata": {},
   "source": [
    "### Creating and Manipulating DataFrames"
   ]
  },
  {
   "cell_type": "code",
   "execution_count": null,
   "id": "dataframe-create-1234-5678-9abc-def012345712",
   "metadata": {},
   "outputs": [],
   "source": [
    "# Creating a random matrix and DataFrame\n",
    "np.random.seed(42)  # For reproducible results\n",
    "matrix = np.random.randint(1, 12, size=(4, len(animals)))\n",
    "print(f\"Random matrix shape: {matrix.shape}\")\n",
    "print(f\"Matrix:\\n{matrix}\")\n",
    "\n",
    "# Create DataFrame\n",
    "df = pd.DataFrame(matrix, columns=animals)\n",
    "df.index = [f'Row_{i+1}' for i in range(len(df))]  # Custom row names\n",
    "print(f\"\\nDataFrame:\")\n",
    "print(df)\n",
    "\n",
    "# Add summary statistics\n",
    "df['row_sum'] = df.sum(axis=1)\n",
    "df['row_mean'] = df.iloc[:, :-1].mean(axis=1).round(2)  # Exclude the sum column\n",
    "\n",
    "print(f\"\\nDataFrame with statistics:\")\n",
    "print(df)\n",
    "\n",
    "# Column statistics\n",
    "print(f\"\\nColumn sums:\")\n",
    "print(df.iloc[:, :-2].sum())  # Exclude sum and mean columns"
   ]
  }
 ],
 "metadata": {
  "kernelspec": {
   "display_name": "Python 3",
   "language": "python",
   "name": "python3"
  },
  "language_info": {
   "codemirror_mode": {
    "name": "ipython",
    "version": 3
   },
   "file_extension": ".py",
   "mimetype": "text/x-python",
   "name": "python",
   "nbconvert_exporter": "python",
   "pygments_lexer": "ipython3",
   "version": "3.9.0"
  }
 },
 "nbformat": 4,
 "nbformat_minor": 5
}